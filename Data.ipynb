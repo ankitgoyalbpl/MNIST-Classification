{
 "cells": [
  {
   "cell_type": "markdown",
   "metadata": {},
   "source": [
    "## This Python notebook reads the MNIST data in from the format specified on Yann LeCunn's Page and returns a list of tuples. Each tuples comprises of the digit label and the image matrix of size 28 x 28. We then expand this dataset by rotating and translatig the image by various amounts and finally return the complete dataset"
   ]
  },
  {
   "cell_type": "markdown",
   "metadata": {},
   "source": []
  },
  {
   "cell_type": "code",
   "execution_count": 35,
   "metadata": {
    "collapsed": true
   },
   "outputs": [],
   "source": [
    "import numpy as np\n",
    "from matplotlib import pyplot as plt \n",
    "import matplotlib\n",
    "import struct\n",
    "import os\n",
    "import h5py\n",
    "from scipy import ndimage as nd\n",
    "\n",
    "%matplotlib inline"
   ]
  },
  {
   "cell_type": "code",
   "execution_count": 36,
   "metadata": {
    "collapsed": true
   },
   "outputs": [],
   "source": [
    "# Function to read the MNIST data from ubyte format\n",
    "def ParseMNISTData(dataType='training', filePath='./Data'):\n",
    "    if dataType is 'training':\n",
    "        imgFileName = os.path.join(os.path.abspath(filePath), 'train-images.idx3-ubyte')\n",
    "        lblFileName = os.path.join(os.path.abspath(filePath), 'train-labels.idx1-ubyte')\n",
    "    elif dataType is 'testing':\n",
    "        imgFileName = os.path.join(os.path.abspath(filePath), 't10k-images.idx3-ubyte')\n",
    "        lblFileName = os.path.join(os.path.abspath(filePath), 't10k-labels.idx1-ubyte')\n",
    "    else:\n",
    "        raise ValueError, 'Datatype must be either \"training\" or \"testing\"'\n",
    "\n",
    "    with open(lblFileName, 'rb') as inFile:\n",
    "        struct.unpack('>II', inFile.read(8))\n",
    "        labelData = np.fromfile(inFile, dtype=np.uint8)\n",
    "\n",
    "    with open(imgFileName, 'rb') as inFile:\n",
    "        _, _, rowCount, colCount = struct.unpack('>IIII', inFile.read(16))\n",
    "        imageData = np.fromfile(inFile, dtype=np.uint8).reshape(len(labelData), rowCount, colCount)\n",
    "\n",
    "    GetData = lambda dataIndex : (labelData[dataIndex], imageData[dataIndex])\n",
    "\n",
    "    for dataIndex in range(len(labelData)):\n",
    "        yield GetData(dataIndex)"
   ]
  },
  {
   "cell_type": "code",
   "execution_count": 37,
   "metadata": {
    "collapsed": true
   },
   "outputs": [],
   "source": [
    "# Display the number image\n",
    "def DrawNumber(numberImage):\n",
    "    imgFigure = plt.figure().add_subplot(1, 1, 1)\n",
    "    imgPlot = imgFigure.imshow(numberImage, cmap=matplotlib.cm.Greys)\n",
    "    imgPlot.set_interpolation('nearest')\n",
    "    imgFigure.xaxis.set_ticks_position('top')\n",
    "    imgFigure.yaxis.set_ticks_position('left')\n",
    "    plt.show()"
   ]
  },
  {
   "cell_type": "markdown",
   "metadata": {},
   "source": [
    "### Functions for manipulation of images to augment the dataset for better learning"
   ]
  },
  {
   "cell_type": "code",
   "execution_count": 38,
   "metadata": {
    "collapsed": true
   },
   "outputs": [],
   "source": [
    "rotateAngles = [-15, -10, -5, 5, 10, 15]\n",
    "translateDistance = [(1, 0), (0, 1), (-1, 0), (0, -1), (2, 0), (0, 2), (-2, 0), (0, -2), (3, 0), (0, 3), (-3, 0), (0, -3) ]"
   ]
  },
  {
   "cell_type": "code",
   "execution_count": 39,
   "metadata": {
    "collapsed": false
   },
   "outputs": [],
   "source": [
    "def RotateImages(originalImage):\n",
    "    rotatedImageSet = []\n",
    "    for angleVal in rotateAngles:\n",
    "         rotatedImageSet.append(nd.rotate(originalImage, angleVal, reshape=False, mode='constant'))\n",
    "    \n",
    "    return rotatedImageSet"
   ]
  },
  {
   "cell_type": "code",
   "execution_count": 40,
   "metadata": {
    "collapsed": false
   },
   "outputs": [],
   "source": [
    "def TranslateImage(originalImage):\n",
    "    translatedImageSet = []\n",
    "    for shiftVal in translateDistance:\n",
    "         translatedImageSet.append(nd.shift(originalImage, shiftVal, mode='constant'))\n",
    "        \n",
    "    return translatedImageSet"
   ]
  },
  {
   "cell_type": "code",
   "execution_count": 41,
   "metadata": {
    "collapsed": true
   },
   "outputs": [],
   "source": [
    "def GetDataset(dataType='training', filePath='./Data'):\n",
    "    print 'Reading Data from Input File'\n",
    "    dataSet = []\n",
    "    for dataItem in ParseMNISTData(dataType, filePath):\n",
    "        dataSet.append(dataItem)\n",
    "        \n",
    "    print 'Done'\n",
    "    return dataSet"
   ]
  },
  {
   "cell_type": "code",
   "execution_count": 42,
   "metadata": {
    "collapsed": false
   },
   "outputs": [],
   "source": [
    "def AugmentDataset(originalDataset):\n",
    "    completeDataset = []\n",
    "    for dataItem in originalDataset:\n",
    "        \n",
    "        completeDataset.append(dataItem)\n",
    "        \n",
    "        manipulatedImageSet = RotateImages(dataItem[1])\n",
    "        for manipulatedImage in manipulatedImageSet:\n",
    "            completeDataset.append((dataItem[0], manipulatedImage))\n",
    "            \n",
    "        manipulatedImageSet = TranslateImage(dataItem[1])\n",
    "        for manipulatedImage in manipulatedImageSet:\n",
    "            completeDataset.append((dataItem[0], manipulatedImage))\n",
    "           \n",
    "    del originalDataset\n",
    "    return completeDataset"
   ]
  },
  {
   "cell_type": "code",
   "execution_count": 45,
   "metadata": {
    "collapsed": false
   },
   "outputs": [],
   "source": [
    "def CreateFinalDataset(dataType='training', filePath='./Data'):\n",
    "    if not os.path.exists(filePath):\n",
    "        raise ValueError, 'Invalid Path provided.'\n",
    "    \n",
    "    if dataType is 'training':\n",
    "        print 'Training DataType'\n",
    "        outFileName = os.path.join(os.path.abspath(filePath), 'trainingData.h5')\n",
    "        linkFileName = os.path.join(os.path.abspath(filePath), 'trainingData.txt')\n",
    "    elif dataType is 'testing':\n",
    "        print 'Testing Datatype'\n",
    "        outFileName = os.path.join(os.path.abspath(filePath), 'testingData.h5')\n",
    "        linkFileName = os.path.join(os.path.abspath(filePath), 'testingData.txt')\n",
    "    else:\n",
    "        raise ValueError, 'Datatype must be either \"training\" or \"testing\"'\n",
    "        \n",
    "    completeDataSet = GetDataset(dataType, filePath)\n",
    "    if dataType is 'training':\n",
    "        print 'Augmenting Training Data'\n",
    "        completeDataSet = AugmentDataset(completeDataSet)\n",
    "        \n",
    "    imageMatrixSet, digitLabelSet = zip(*completeDataSet)\n",
    "    comp_kwargs = {'compression': 'gzip', 'compression_opts': 1}\n",
    "    with h5py.File(outFileName, 'w') as outFile:\n",
    "        print 'Writing Data for HDF5 File'\n",
    "        outFile.create_dataset('data', data=imageMatrixSet, **comp_kwargs)\n",
    "        outFile.create_dataset('label', data=digitLabelSet, **comp_kwargs)\n",
    "    with open(linkFileName, 'w') as outFile:\n",
    "        outFile.write(outFileName + '\\n')\n",
    "    \n",
    "    print 'Done'"
   ]
  },
  {
   "cell_type": "code",
   "execution_count": 46,
   "metadata": {
    "collapsed": false
   },
   "outputs": [
    {
     "name": "stdout",
     "output_type": "stream",
     "text": [
      "Training DataType\n",
      "Reading Data from Input File\n",
      "Done\n",
      "Augmenting Training Data\n",
      "1140000\n",
      "Writing Data for HDF5 File\n",
      "Done\n"
     ]
    }
   ],
   "source": [
    "CreateFinalDataset('training')"
   ]
  },
  {
   "cell_type": "code",
   "execution_count": null,
   "metadata": {
    "collapsed": true
   },
   "outputs": [],
   "source": []
  }
 ],
 "metadata": {
  "kernelspec": {
   "display_name": "Python 2",
   "language": "python",
   "name": "python2"
  },
  "language_info": {
   "codemirror_mode": {
    "name": "ipython",
    "version": 2
   },
   "file_extension": ".py",
   "mimetype": "text/x-python",
   "name": "python",
   "nbconvert_exporter": "python",
   "pygments_lexer": "ipython2",
   "version": "2.7.10"
  }
 },
 "nbformat": 4,
 "nbformat_minor": 0
}
